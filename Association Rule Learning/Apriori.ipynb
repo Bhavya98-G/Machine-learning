{
 "cells": [
  {
   "cell_type": "markdown",
   "id": "77502f84",
   "metadata": {},
   "source": [
    "## Apriori "
   ]
  },
  {
   "cell_type": "markdown",
   "id": "8ed50f4d",
   "metadata": {},
   "source": [
    "### Importing the libraries"
   ]
  },
  {
   "cell_type": "code",
   "execution_count": 1,
   "id": "b14cef6a",
   "metadata": {},
   "outputs": [
    {
     "name": "stdout",
     "output_type": "stream",
     "text": [
      "Collecting apyori\n",
      "  Downloading apyori-1.1.2.tar.gz (8.6 kB)\n",
      "  Installing build dependencies: started\n",
      "  Installing build dependencies: finished with status 'done'\n",
      "  Getting requirements to build wheel: started\n",
      "  Getting requirements to build wheel: finished with status 'done'\n",
      "  Preparing metadata (pyproject.toml): started\n",
      "  Preparing metadata (pyproject.toml): finished with status 'done'\n",
      "Building wheels for collected packages: apyori\n",
      "  Building wheel for apyori (pyproject.toml): started\n",
      "  Building wheel for apyori (pyproject.toml): finished with status 'done'\n",
      "  Created wheel for apyori: filename=apyori-1.1.2-py3-none-any.whl size=6015 sha256=5f8e89375524ce0a6ddb4a4797b8142ba9e3a61a51405e2362deb2a17aa54109\n",
      "  Stored in directory: c:\\users\\bhavya garg\\appdata\\local\\pip\\cache\\wheels\\7f\\49\\e3\\42c73b19a264de37129fadaa0c52f26cf50e87de08fb9804af\n",
      "Successfully built apyori\n",
      "Installing collected packages: apyori\n",
      "Successfully installed apyori-1.1.2\n"
     ]
    },
    {
     "name": "stderr",
     "output_type": "stream",
     "text": [
      "\n",
      "[notice] A new release of pip is available: 24.1.2 -> 25.2\n",
      "[notice] To update, run: C:\\Users\\Bhavya Garg\\AppData\\Local\\Programs\\Python\\Python312\\python.exe -m pip install --upgrade pip\n"
     ]
    }
   ],
   "source": [
    "!pip install apyori"
   ]
  },
  {
   "cell_type": "code",
   "execution_count": 2,
   "id": "9a376589",
   "metadata": {},
   "outputs": [],
   "source": [
    "import numpy as np\n",
    "import matplotlib.pyplot as plt\n",
    "import pandas as pd"
   ]
  },
  {
   "cell_type": "markdown",
   "id": "f9446200",
   "metadata": {},
   "source": [
    "### Data Preprocessing"
   ]
  },
  {
   "cell_type": "code",
   "execution_count": 7,
   "id": "53ee2238",
   "metadata": {},
   "outputs": [],
   "source": [
    "dataset = pd.read_csv('Market_Basket_Optimisation.csv', header = None)\n",
    "transaction = []\n",
    "for i in range(0, 7501):\n",
    "    transaction.append([str(dataset.iloc[i, f]) for f in range(0, 20)])"
   ]
  },
  {
   "cell_type": "markdown",
   "id": "9b185615",
   "metadata": {},
   "source": [
    "### Training the Apriori model on the Dataset"
   ]
  },
  {
   "cell_type": "code",
   "execution_count": null,
   "id": "cf74966b",
   "metadata": {},
   "outputs": [],
   "source": []
  },
  {
   "cell_type": "markdown",
   "id": "20764fd8",
   "metadata": {},
   "source": [
    "### Visualizing the results"
   ]
  },
  {
   "cell_type": "markdown",
   "id": "9a022714",
   "metadata": {},
   "source": [
    "#### Displaying the first result comming directly from the output of the apriori function"
   ]
  },
  {
   "cell_type": "markdown",
   "id": "dd34a1bb",
   "metadata": {},
   "source": [
    "#### Putting the results well organised into a Pandas DataFrame"
   ]
  },
  {
   "cell_type": "markdown",
   "id": "ac46ab76",
   "metadata": {},
   "source": [
    "#### Displaying the results non sorted"
   ]
  },
  {
   "cell_type": "markdown",
   "id": "e20daebd",
   "metadata": {},
   "source": [
    "#### Displaying the results sorted by descending lifts"
   ]
  }
 ],
 "metadata": {
  "kernelspec": {
   "display_name": "Machine learning",
   "language": "python",
   "name": "python3"
  },
  "language_info": {
   "codemirror_mode": {
    "name": "ipython",
    "version": 3
   },
   "file_extension": ".py",
   "mimetype": "text/x-python",
   "name": "python",
   "nbconvert_exporter": "python",
   "pygments_lexer": "ipython3",
   "version": "3.12.2"
  }
 },
 "nbformat": 4,
 "nbformat_minor": 5
}
